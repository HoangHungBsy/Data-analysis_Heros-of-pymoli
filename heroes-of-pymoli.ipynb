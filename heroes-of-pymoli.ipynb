{
 "cells": [
  {
   "cell_type": "code",
   "execution_count": 1,
   "id": "a1a247fa",
   "metadata": {
    "_cell_guid": "b1076dfc-b9ad-4769-8c92-a6c4dae69d19",
    "_uuid": "8f2839f25d086af736a60e9eeb907d3b93b6e0e5",
    "execution": {
     "iopub.execute_input": "2021-10-04T11:20:21.449617Z",
     "iopub.status.busy": "2021-10-04T11:20:21.449024Z",
     "iopub.status.idle": "2021-10-04T11:20:21.462804Z",
     "shell.execute_reply": "2021-10-04T11:20:21.463237Z",
     "shell.execute_reply.started": "2021-10-04T11:07:42.486823Z"
    },
    "papermill": {
     "duration": 0.037027,
     "end_time": "2021-10-04T11:20:21.463518",
     "exception": false,
     "start_time": "2021-10-04T11:20:21.426491",
     "status": "completed"
    },
    "tags": []
   },
   "outputs": [
    {
     "name": "stdout",
     "output_type": "stream",
     "text": [
      "/kaggle/input/game-challeng/purchase_data.csv\n"
     ]
    }
   ],
   "source": [
    "# This Python 3 environment comes with many helpful analytics libraries installed\n",
    "# It is defined by the kaggle/python Docker image: https://github.com/kaggle/docker-python\n",
    "# For example, here's several helpful packages to load\n",
    "\n",
    "import numpy as np # linear algebra\n",
    "import pandas as pd # data processing, CSV file I/O (e.g. pd.read_csv)\n",
    "\n",
    "# Input data files are available in the read-only \"../input/\" directory\n",
    "# For example, running this (by clicking run or pressing Shift+Enter) will list all files under the input directory\n",
    "\n",
    "import os\n",
    "for dirname, _, filenames in os.walk('/kaggle/input'):\n",
    "    for filename in filenames:\n",
    "        print(os.path.join(dirname, filename))\n",
    "\n",
    "# You can write up to 20GB to the current directory (/kaggle/working/) that gets preserved as output when you create a version using \"Save & Run All\" \n",
    "# You can also write temporary files to /kaggle/temp/, but they won't be saved outside of the current session"
   ]
  },
  {
   "cell_type": "markdown",
   "id": "a61d7fda",
   "metadata": {
    "papermill": {
     "duration": 0.011762,
     "end_time": "2021-10-04T11:20:21.487863",
     "exception": false,
     "start_time": "2021-10-04T11:20:21.476101",
     "status": "completed"
    },
    "tags": []
   },
   "source": [
    "https://github.com/bdthai81/pandas-challenge/blob/master/HeroesOfPymoli/.ipynb_checkpoints/HeroesOfPymoli_starter-checkpoint.ipynb"
   ]
  },
  {
   "cell_type": "code",
   "execution_count": 2,
   "id": "9671e7c7",
   "metadata": {
    "execution": {
     "iopub.execute_input": "2021-10-04T11:20:21.516270Z",
     "iopub.status.busy": "2021-10-04T11:20:21.515582Z",
     "iopub.status.idle": "2021-10-04T11:20:21.644164Z",
     "shell.execute_reply": "2021-10-04T11:20:21.644631Z",
     "shell.execute_reply.started": "2021-10-04T11:07:42.508747Z"
    },
    "papermill": {
     "duration": 0.145136,
     "end_time": "2021-10-04T11:20:21.644791",
     "exception": false,
     "start_time": "2021-10-04T11:20:21.499655",
     "status": "completed"
    },
    "tags": []
   },
   "outputs": [
    {
     "data": {
      "text/html": [
       "<div>\n",
       "<style scoped>\n",
       "    .dataframe tbody tr th:only-of-type {\n",
       "        vertical-align: middle;\n",
       "    }\n",
       "\n",
       "    .dataframe tbody tr th {\n",
       "        vertical-align: top;\n",
       "    }\n",
       "\n",
       "    .dataframe thead th {\n",
       "        text-align: right;\n",
       "    }\n",
       "</style>\n",
       "<table border=\"1\" class=\"dataframe\">\n",
       "  <thead>\n",
       "    <tr style=\"text-align: right;\">\n",
       "      <th></th>\n",
       "      <th>Purchase ID</th>\n",
       "      <th>SN</th>\n",
       "      <th>Age</th>\n",
       "      <th>Gender</th>\n",
       "      <th>Item ID</th>\n",
       "      <th>Item Name</th>\n",
       "      <th>Price</th>\n",
       "    </tr>\n",
       "  </thead>\n",
       "  <tbody>\n",
       "    <tr>\n",
       "      <th>0</th>\n",
       "      <td>0</td>\n",
       "      <td>Lisim78</td>\n",
       "      <td>20</td>\n",
       "      <td>Male</td>\n",
       "      <td>108</td>\n",
       "      <td>Extraction, Quickblade Of Trembling Hands</td>\n",
       "      <td>3.53</td>\n",
       "    </tr>\n",
       "    <tr>\n",
       "      <th>1</th>\n",
       "      <td>1</td>\n",
       "      <td>Lisovynya38</td>\n",
       "      <td>40</td>\n",
       "      <td>Male</td>\n",
       "      <td>143</td>\n",
       "      <td>Frenzied Scimitar</td>\n",
       "      <td>1.56</td>\n",
       "    </tr>\n",
       "    <tr>\n",
       "      <th>2</th>\n",
       "      <td>2</td>\n",
       "      <td>Ithergue48</td>\n",
       "      <td>24</td>\n",
       "      <td>Male</td>\n",
       "      <td>92</td>\n",
       "      <td>Final Critic</td>\n",
       "      <td>4.88</td>\n",
       "    </tr>\n",
       "    <tr>\n",
       "      <th>3</th>\n",
       "      <td>3</td>\n",
       "      <td>Chamassasya86</td>\n",
       "      <td>24</td>\n",
       "      <td>Male</td>\n",
       "      <td>100</td>\n",
       "      <td>Blindscythe</td>\n",
       "      <td>3.27</td>\n",
       "    </tr>\n",
       "    <tr>\n",
       "      <th>4</th>\n",
       "      <td>4</td>\n",
       "      <td>Iskosia90</td>\n",
       "      <td>23</td>\n",
       "      <td>Male</td>\n",
       "      <td>131</td>\n",
       "      <td>Fury</td>\n",
       "      <td>1.44</td>\n",
       "    </tr>\n",
       "    <tr>\n",
       "      <th>...</th>\n",
       "      <td>...</td>\n",
       "      <td>...</td>\n",
       "      <td>...</td>\n",
       "      <td>...</td>\n",
       "      <td>...</td>\n",
       "      <td>...</td>\n",
       "      <td>...</td>\n",
       "    </tr>\n",
       "    <tr>\n",
       "      <th>775</th>\n",
       "      <td>775</td>\n",
       "      <td>Aethedru70</td>\n",
       "      <td>21</td>\n",
       "      <td>Female</td>\n",
       "      <td>60</td>\n",
       "      <td>Wolf</td>\n",
       "      <td>3.54</td>\n",
       "    </tr>\n",
       "    <tr>\n",
       "      <th>776</th>\n",
       "      <td>776</td>\n",
       "      <td>Iral74</td>\n",
       "      <td>21</td>\n",
       "      <td>Male</td>\n",
       "      <td>164</td>\n",
       "      <td>Exiled Doomblade</td>\n",
       "      <td>1.63</td>\n",
       "    </tr>\n",
       "    <tr>\n",
       "      <th>777</th>\n",
       "      <td>777</td>\n",
       "      <td>Yathecal72</td>\n",
       "      <td>20</td>\n",
       "      <td>Male</td>\n",
       "      <td>67</td>\n",
       "      <td>Celeste, Incarnation of the Corrupted</td>\n",
       "      <td>3.46</td>\n",
       "    </tr>\n",
       "    <tr>\n",
       "      <th>778</th>\n",
       "      <td>778</td>\n",
       "      <td>Sisur91</td>\n",
       "      <td>7</td>\n",
       "      <td>Male</td>\n",
       "      <td>101</td>\n",
       "      <td>Final Critic</td>\n",
       "      <td>4.19</td>\n",
       "    </tr>\n",
       "    <tr>\n",
       "      <th>779</th>\n",
       "      <td>779</td>\n",
       "      <td>Ennrian78</td>\n",
       "      <td>24</td>\n",
       "      <td>Male</td>\n",
       "      <td>50</td>\n",
       "      <td>Dawn</td>\n",
       "      <td>4.60</td>\n",
       "    </tr>\n",
       "  </tbody>\n",
       "</table>\n",
       "<p>780 rows × 7 columns</p>\n",
       "</div>"
      ],
      "text/plain": [
       "     Purchase ID             SN  Age  Gender  Item ID  \\\n",
       "0              0        Lisim78   20    Male      108   \n",
       "1              1    Lisovynya38   40    Male      143   \n",
       "2              2     Ithergue48   24    Male       92   \n",
       "3              3  Chamassasya86   24    Male      100   \n",
       "4              4      Iskosia90   23    Male      131   \n",
       "..           ...            ...  ...     ...      ...   \n",
       "775          775     Aethedru70   21  Female       60   \n",
       "776          776         Iral74   21    Male      164   \n",
       "777          777     Yathecal72   20    Male       67   \n",
       "778          778        Sisur91    7    Male      101   \n",
       "779          779      Ennrian78   24    Male       50   \n",
       "\n",
       "                                     Item Name  Price  \n",
       "0    Extraction, Quickblade Of Trembling Hands   3.53  \n",
       "1                            Frenzied Scimitar   1.56  \n",
       "2                                 Final Critic   4.88  \n",
       "3                                  Blindscythe   3.27  \n",
       "4                                         Fury   1.44  \n",
       "..                                         ...    ...  \n",
       "775                                       Wolf   3.54  \n",
       "776                           Exiled Doomblade   1.63  \n",
       "777      Celeste, Incarnation of the Corrupted   3.46  \n",
       "778                               Final Critic   4.19  \n",
       "779                                       Dawn   4.60  \n",
       "\n",
       "[780 rows x 7 columns]"
      ]
     },
     "execution_count": 2,
     "metadata": {},
     "output_type": "execute_result"
    }
   ],
   "source": [
    "df=pd.read_csv('../input/game-challeng/purchase_data.csv')\n",
    "df"
   ]
  },
  {
   "cell_type": "markdown",
   "id": "ff448535",
   "metadata": {
    "papermill": {
     "duration": 0.012473,
     "end_time": "2021-10-04T11:20:21.669995",
     "exception": false,
     "start_time": "2021-10-04T11:20:21.657522",
     "status": "completed"
    },
    "tags": []
   },
   "source": [
    "Purchasing Analysis (Total)\n",
    "* Number of Unique Items\n",
    "* Average Purchase Price\n",
    "* Total Number of Purchases\n",
    "* Total Revenue"
   ]
  },
  {
   "cell_type": "code",
   "execution_count": 3,
   "id": "d721d548",
   "metadata": {
    "execution": {
     "iopub.execute_input": "2021-10-04T11:20:21.703547Z",
     "iopub.status.busy": "2021-10-04T11:20:21.702520Z",
     "iopub.status.idle": "2021-10-04T11:20:21.706605Z",
     "shell.execute_reply": "2021-10-04T11:20:21.706982Z",
     "shell.execute_reply.started": "2021-10-04T11:07:42.681095Z"
    },
    "papermill": {
     "duration": 0.02444,
     "end_time": "2021-10-04T11:20:21.707154",
     "exception": false,
     "start_time": "2021-10-04T11:20:21.682714",
     "status": "completed"
    },
    "tags": []
   },
   "outputs": [
    {
     "data": {
      "text/plain": [
       "179"
      ]
     },
     "execution_count": 3,
     "metadata": {},
     "output_type": "execute_result"
    }
   ],
   "source": [
    "#number_unique_itme\n",
    "df['Item Name'].nunique()\n",
    "\n",
    "\n"
   ]
  },
  {
   "cell_type": "code",
   "execution_count": 4,
   "id": "d6d7b8e5",
   "metadata": {
    "execution": {
     "iopub.execute_input": "2021-10-04T11:20:21.735747Z",
     "iopub.status.busy": "2021-10-04T11:20:21.734843Z",
     "iopub.status.idle": "2021-10-04T11:20:21.740423Z",
     "shell.execute_reply": "2021-10-04T11:20:21.741139Z",
     "shell.execute_reply.started": "2021-10-04T11:07:42.692989Z"
    },
    "papermill": {
     "duration": 0.021762,
     "end_time": "2021-10-04T11:20:21.741340",
     "exception": false,
     "start_time": "2021-10-04T11:20:21.719578",
     "status": "completed"
    },
    "tags": []
   },
   "outputs": [
    {
     "data": {
      "text/plain": [
       "3.050987179487176"
      ]
     },
     "execution_count": 4,
     "metadata": {},
     "output_type": "execute_result"
    }
   ],
   "source": [
    "#Average_purchase \n",
    "df.Price.mean()"
   ]
  },
  {
   "cell_type": "code",
   "execution_count": 5,
   "id": "03993e88",
   "metadata": {
    "execution": {
     "iopub.execute_input": "2021-10-04T11:20:21.770917Z",
     "iopub.status.busy": "2021-10-04T11:20:21.770032Z",
     "iopub.status.idle": "2021-10-04T11:20:21.776208Z",
     "shell.execute_reply": "2021-10-04T11:20:21.775669Z",
     "shell.execute_reply.started": "2021-10-04T11:07:42.711084Z"
    },
    "papermill": {
     "duration": 0.021752,
     "end_time": "2021-10-04T11:20:21.776344",
     "exception": false,
     "start_time": "2021-10-04T11:20:21.754592",
     "status": "completed"
    },
    "tags": []
   },
   "outputs": [
    {
     "data": {
      "text/plain": [
       "780"
      ]
     },
     "execution_count": 5,
     "metadata": {},
     "output_type": "execute_result"
    }
   ],
   "source": [
    "#Total_number_purchase\n",
    "df['Purchase ID'].count()"
   ]
  },
  {
   "cell_type": "code",
   "execution_count": 6,
   "id": "e3247939",
   "metadata": {
    "execution": {
     "iopub.execute_input": "2021-10-04T11:20:21.804995Z",
     "iopub.status.busy": "2021-10-04T11:20:21.804445Z",
     "iopub.status.idle": "2021-10-04T11:20:21.808775Z",
     "shell.execute_reply": "2021-10-04T11:20:21.809212Z",
     "shell.execute_reply.started": "2021-10-04T11:07:42.731005Z"
    },
    "papermill": {
     "duration": 0.020264,
     "end_time": "2021-10-04T11:20:21.809371",
     "exception": false,
     "start_time": "2021-10-04T11:20:21.789107",
     "status": "completed"
    },
    "tags": []
   },
   "outputs": [
    {
     "data": {
      "text/plain": [
       "2379.77"
      ]
     },
     "execution_count": 6,
     "metadata": {},
     "output_type": "execute_result"
    }
   ],
   "source": [
    "#Total_revenu\n",
    "df.Price.sum()"
   ]
  },
  {
   "cell_type": "markdown",
   "id": "6b54c2bc",
   "metadata": {
    "papermill": {
     "duration": 0.012938,
     "end_time": "2021-10-04T11:20:21.835546",
     "exception": false,
     "start_time": "2021-10-04T11:20:21.822608",
     "status": "completed"
    },
    "tags": []
   },
   "source": [
    "Gender Demographics\n",
    "* Percentage and Count of Male Players\n",
    "* Percentage and Count of Female Players\n",
    "* Percentage and Count of Other / Non-Disclosed"
   ]
  },
  {
   "cell_type": "code",
   "execution_count": 7,
   "id": "e2e71fc8",
   "metadata": {
    "execution": {
     "iopub.execute_input": "2021-10-04T11:20:21.864467Z",
     "iopub.status.busy": "2021-10-04T11:20:21.863868Z",
     "iopub.status.idle": "2021-10-04T11:20:21.890377Z",
     "shell.execute_reply": "2021-10-04T11:20:21.889897Z",
     "shell.execute_reply.started": "2021-10-04T11:07:42.755975Z"
    },
    "papermill": {
     "duration": 0.041814,
     "end_time": "2021-10-04T11:20:21.890522",
     "exception": false,
     "start_time": "2021-10-04T11:20:21.848708",
     "status": "completed"
    },
    "tags": []
   },
   "outputs": [
    {
     "data": {
      "text/html": [
       "<div>\n",
       "<style scoped>\n",
       "    .dataframe tbody tr th:only-of-type {\n",
       "        vertical-align: middle;\n",
       "    }\n",
       "\n",
       "    .dataframe tbody tr th {\n",
       "        vertical-align: top;\n",
       "    }\n",
       "\n",
       "    .dataframe thead th {\n",
       "        text-align: right;\n",
       "    }\n",
       "</style>\n",
       "<table border=\"1\" class=\"dataframe\">\n",
       "  <thead>\n",
       "    <tr style=\"text-align: right;\">\n",
       "      <th></th>\n",
       "      <th>count</th>\n",
       "      <th>count_pct</th>\n",
       "    </tr>\n",
       "  </thead>\n",
       "  <tbody>\n",
       "    <tr>\n",
       "      <th>Male</th>\n",
       "      <td>652</td>\n",
       "      <td>0.835897</td>\n",
       "    </tr>\n",
       "    <tr>\n",
       "      <th>Female</th>\n",
       "      <td>113</td>\n",
       "      <td>0.144872</td>\n",
       "    </tr>\n",
       "    <tr>\n",
       "      <th>Other / Non-Disclosed</th>\n",
       "      <td>15</td>\n",
       "      <td>0.019231</td>\n",
       "    </tr>\n",
       "  </tbody>\n",
       "</table>\n",
       "</div>"
      ],
      "text/plain": [
       "                       count  count_pct\n",
       "Male                     652   0.835897\n",
       "Female                   113   0.144872\n",
       "Other / Non-Disclosed     15   0.019231"
      ]
     },
     "execution_count": 7,
     "metadata": {},
     "output_type": "execute_result"
    }
   ],
   "source": [
    "count= df.Gender.value_counts()\n",
    "count_pct=df.Gender.value_counts(normalize=True)\n",
    "gender_demographics=pd.DataFrame({\"count\":count,\n",
    "                \"count_pct\":count_pct})\n",
    "gender_demographics"
   ]
  },
  {
   "cell_type": "markdown",
   "id": "8254c743",
   "metadata": {
    "papermill": {
     "duration": 0.013027,
     "end_time": "2021-10-04T11:20:21.917039",
     "exception": false,
     "start_time": "2021-10-04T11:20:21.904012",
     "status": "completed"
    },
    "tags": []
   },
   "source": [
    "Purchasing Analysis (Gender)\n",
    "The below each broken by gender\n",
    "* Purchase Count\n",
    "* Average Purchase Price\n",
    "* Total Purchase Value\n",
    "* Average Purchase Total per Person by Gender"
   ]
  },
  {
   "cell_type": "code",
   "execution_count": 8,
   "id": "17b4b4d1",
   "metadata": {
    "execution": {
     "iopub.execute_input": "2021-10-04T11:20:21.950962Z",
     "iopub.status.busy": "2021-10-04T11:20:21.950024Z",
     "iopub.status.idle": "2021-10-04T11:20:21.960205Z",
     "shell.execute_reply": "2021-10-04T11:20:21.960648Z",
     "shell.execute_reply.started": "2021-10-04T11:07:42.806900Z"
    },
    "papermill": {
     "duration": 0.030433,
     "end_time": "2021-10-04T11:20:21.960809",
     "exception": false,
     "start_time": "2021-10-04T11:20:21.930376",
     "status": "completed"
    },
    "tags": []
   },
   "outputs": [
    {
     "data": {
      "text/html": [
       "<div>\n",
       "<style scoped>\n",
       "    .dataframe tbody tr th:only-of-type {\n",
       "        vertical-align: middle;\n",
       "    }\n",
       "\n",
       "    .dataframe tbody tr th {\n",
       "        vertical-align: top;\n",
       "    }\n",
       "\n",
       "    .dataframe thead th {\n",
       "        text-align: right;\n",
       "    }\n",
       "</style>\n",
       "<table border=\"1\" class=\"dataframe\">\n",
       "  <thead>\n",
       "    <tr style=\"text-align: right;\">\n",
       "      <th></th>\n",
       "      <th>count</th>\n",
       "      <th>mean</th>\n",
       "      <th>sum</th>\n",
       "    </tr>\n",
       "    <tr>\n",
       "      <th>Gender</th>\n",
       "      <th></th>\n",
       "      <th></th>\n",
       "      <th></th>\n",
       "    </tr>\n",
       "  </thead>\n",
       "  <tbody>\n",
       "    <tr>\n",
       "      <th>Female</th>\n",
       "      <td>113</td>\n",
       "      <td>3.203009</td>\n",
       "      <td>361.94</td>\n",
       "    </tr>\n",
       "    <tr>\n",
       "      <th>Male</th>\n",
       "      <td>652</td>\n",
       "      <td>3.017853</td>\n",
       "      <td>1967.64</td>\n",
       "    </tr>\n",
       "    <tr>\n",
       "      <th>Other / Non-Disclosed</th>\n",
       "      <td>15</td>\n",
       "      <td>3.346000</td>\n",
       "      <td>50.19</td>\n",
       "    </tr>\n",
       "  </tbody>\n",
       "</table>\n",
       "</div>"
      ],
      "text/plain": [
       "                       count      mean      sum\n",
       "Gender                                         \n",
       "Female                   113  3.203009   361.94\n",
       "Male                     652  3.017853  1967.64\n",
       "Other / Non-Disclosed     15  3.346000    50.19"
      ]
     },
     "execution_count": 8,
     "metadata": {},
     "output_type": "execute_result"
    }
   ],
   "source": [
    "df.groupby('Gender')['Price'].agg(['count','mean','sum'])"
   ]
  },
  {
   "cell_type": "markdown",
   "id": "b3179765",
   "metadata": {
    "papermill": {
     "duration": 0.013291,
     "end_time": "2021-10-04T11:20:21.987876",
     "exception": false,
     "start_time": "2021-10-04T11:20:21.974585",
     "status": "completed"
    },
    "tags": []
   },
   "source": [
    "Age Demographics\n",
    "The below each broken into bins of 4 years (i.e. <10, 10-14, 15-19, etc.)\n",
    "* Purchase Count\n",
    "* Average Purchase Price\n",
    "* Total Purchase Value\n",
    "* Average Purchase Total per Person by Age Group"
   ]
  },
  {
   "cell_type": "code",
   "execution_count": 9,
   "id": "d558a0d0",
   "metadata": {
    "execution": {
     "iopub.execute_input": "2021-10-04T11:20:22.017884Z",
     "iopub.status.busy": "2021-10-04T11:20:22.017294Z",
     "iopub.status.idle": "2021-10-04T11:20:22.037513Z",
     "shell.execute_reply": "2021-10-04T11:20:22.037011Z",
     "shell.execute_reply.started": "2021-10-04T11:07:42.828919Z"
    },
    "papermill": {
     "duration": 0.036193,
     "end_time": "2021-10-04T11:20:22.037646",
     "exception": false,
     "start_time": "2021-10-04T11:20:22.001453",
     "status": "completed"
    },
    "tags": []
   },
   "outputs": [
    {
     "data": {
      "text/html": [
       "<div>\n",
       "<style scoped>\n",
       "    .dataframe tbody tr th:only-of-type {\n",
       "        vertical-align: middle;\n",
       "    }\n",
       "\n",
       "    .dataframe tbody tr th {\n",
       "        vertical-align: top;\n",
       "    }\n",
       "\n",
       "    .dataframe thead th {\n",
       "        text-align: right;\n",
       "    }\n",
       "</style>\n",
       "<table border=\"1\" class=\"dataframe\">\n",
       "  <thead>\n",
       "    <tr style=\"text-align: right;\">\n",
       "      <th></th>\n",
       "      <th>Total Count</th>\n",
       "      <th>Percentage of Players</th>\n",
       "    </tr>\n",
       "  </thead>\n",
       "  <tbody>\n",
       "    <tr>\n",
       "      <th>20-24</th>\n",
       "      <td>365</td>\n",
       "      <td>46.794872</td>\n",
       "    </tr>\n",
       "    <tr>\n",
       "      <th>15-19</th>\n",
       "      <td>136</td>\n",
       "      <td>17.435897</td>\n",
       "    </tr>\n",
       "    <tr>\n",
       "      <th>25-29</th>\n",
       "      <td>101</td>\n",
       "      <td>12.948718</td>\n",
       "    </tr>\n",
       "    <tr>\n",
       "      <th>30-34</th>\n",
       "      <td>73</td>\n",
       "      <td>9.358974</td>\n",
       "    </tr>\n",
       "    <tr>\n",
       "      <th>35-39</th>\n",
       "      <td>41</td>\n",
       "      <td>5.256410</td>\n",
       "    </tr>\n",
       "    <tr>\n",
       "      <th>10-14</th>\n",
       "      <td>28</td>\n",
       "      <td>3.589744</td>\n",
       "    </tr>\n",
       "    <tr>\n",
       "      <th>&lt;10</th>\n",
       "      <td>23</td>\n",
       "      <td>2.948718</td>\n",
       "    </tr>\n",
       "    <tr>\n",
       "      <th>40+</th>\n",
       "      <td>13</td>\n",
       "      <td>1.666667</td>\n",
       "    </tr>\n",
       "  </tbody>\n",
       "</table>\n",
       "</div>"
      ],
      "text/plain": [
       "       Total Count  Percentage of Players\n",
       "20-24          365              46.794872\n",
       "15-19          136              17.435897\n",
       "25-29          101              12.948718\n",
       "30-34           73               9.358974\n",
       "35-39           41               5.256410\n",
       "10-14           28               3.589744\n",
       "<10             23               2.948718\n",
       "40+             13               1.666667"
      ]
     },
     "execution_count": 9,
     "metadata": {},
     "output_type": "execute_result"
    }
   ],
   "source": [
    "bins = [0, 9, 14, 19, 24, 29, 34, 39, 150]\n",
    "age_labels = [\"<10\", \"10-14\", \"15-19\", \"20-24\", \"25-29\", \"30-34\", \"35-39\", \"40+\"]\n",
    "\n",
    "df['group-age']=pd.cut(df.Age, bins,\n",
    "       labels=age_labels, ordered=False)\n",
    "age_count = df['group-age'].value_counts()\n",
    "pct_count=df['group-age'].value_counts(normalize=True)*100\n",
    "age_demo_df = pd.DataFrame({\"Total Count\": age_count,\n",
    "                            \"Percentage of Players\": pct_count})\n",
    "age_demo_df"
   ]
  },
  {
   "cell_type": "code",
   "execution_count": 10,
   "id": "9e1a0d27",
   "metadata": {
    "execution": {
     "iopub.execute_input": "2021-10-04T11:20:22.095207Z",
     "iopub.status.busy": "2021-10-04T11:20:22.094288Z",
     "iopub.status.idle": "2021-10-04T11:20:22.098209Z",
     "shell.execute_reply": "2021-10-04T11:20:22.097648Z",
     "shell.execute_reply.started": "2021-10-04T11:07:42.858697Z"
    },
    "papermill": {
     "duration": 0.046493,
     "end_time": "2021-10-04T11:20:22.098345",
     "exception": false,
     "start_time": "2021-10-04T11:20:22.051852",
     "status": "completed"
    },
    "tags": []
   },
   "outputs": [
    {
     "data": {
      "text/html": [
       "<div>\n",
       "<style scoped>\n",
       "    .dataframe tbody tr th:only-of-type {\n",
       "        vertical-align: middle;\n",
       "    }\n",
       "\n",
       "    .dataframe tbody tr th {\n",
       "        vertical-align: top;\n",
       "    }\n",
       "\n",
       "    .dataframe thead th {\n",
       "        text-align: right;\n",
       "    }\n",
       "</style>\n",
       "<table border=\"1\" class=\"dataframe\">\n",
       "  <thead>\n",
       "    <tr style=\"text-align: right;\">\n",
       "      <th></th>\n",
       "      <th>countt</th>\n",
       "      <th>avegner</th>\n",
       "      <th>somme</th>\n",
       "      <th>avg_by_pers</th>\n",
       "    </tr>\n",
       "  </thead>\n",
       "  <tbody>\n",
       "    <tr>\n",
       "      <th>&lt;10</th>\n",
       "      <td>23</td>\n",
       "      <td>3.353478</td>\n",
       "      <td>77.13</td>\n",
       "      <td>3.353478</td>\n",
       "    </tr>\n",
       "    <tr>\n",
       "      <th>10-14</th>\n",
       "      <td>28</td>\n",
       "      <td>2.956429</td>\n",
       "      <td>82.78</td>\n",
       "      <td>2.956429</td>\n",
       "    </tr>\n",
       "    <tr>\n",
       "      <th>15-19</th>\n",
       "      <td>136</td>\n",
       "      <td>3.035956</td>\n",
       "      <td>412.89</td>\n",
       "      <td>3.035956</td>\n",
       "    </tr>\n",
       "    <tr>\n",
       "      <th>20-24</th>\n",
       "      <td>365</td>\n",
       "      <td>3.052219</td>\n",
       "      <td>1114.06</td>\n",
       "      <td>3.052219</td>\n",
       "    </tr>\n",
       "    <tr>\n",
       "      <th>25-29</th>\n",
       "      <td>101</td>\n",
       "      <td>2.900990</td>\n",
       "      <td>293.00</td>\n",
       "      <td>2.900990</td>\n",
       "    </tr>\n",
       "    <tr>\n",
       "      <th>30-34</th>\n",
       "      <td>73</td>\n",
       "      <td>2.931507</td>\n",
       "      <td>214.00</td>\n",
       "      <td>2.931507</td>\n",
       "    </tr>\n",
       "    <tr>\n",
       "      <th>35-39</th>\n",
       "      <td>41</td>\n",
       "      <td>3.601707</td>\n",
       "      <td>147.67</td>\n",
       "      <td>3.601707</td>\n",
       "    </tr>\n",
       "    <tr>\n",
       "      <th>40+</th>\n",
       "      <td>13</td>\n",
       "      <td>2.941538</td>\n",
       "      <td>38.24</td>\n",
       "      <td>2.941538</td>\n",
       "    </tr>\n",
       "  </tbody>\n",
       "</table>\n",
       "</div>"
      ],
      "text/plain": [
       "       countt   avegner    somme  avg_by_pers\n",
       "<10        23  3.353478    77.13     3.353478\n",
       "10-14      28  2.956429    82.78     2.956429\n",
       "15-19     136  3.035956   412.89     3.035956\n",
       "20-24     365  3.052219  1114.06     3.052219\n",
       "25-29     101  2.900990   293.00     2.900990\n",
       "30-34      73  2.931507   214.00     2.931507\n",
       "35-39      41  3.601707   147.67     3.601707\n",
       "40+        13  2.941538    38.24     2.941538"
      ]
     },
     "execution_count": 10,
     "metadata": {},
     "output_type": "execute_result"
    }
   ],
   "source": [
    "countt=df.groupby('group-age')['Purchase ID'].count()\n",
    "avg=df.groupby('group-age')['Price'].mean()\n",
    "somme=df.groupby('group-age')['Price'].sum()\n",
    "avg_by_pers= df.groupby('group-age')['Price'].sum()/df['group-age'].value_counts()\n",
    "age_demographic=pd.DataFrame({\"countt\": countt,\n",
    "                            \"avegner\": avg,\n",
    "                             \"somme\":somme,\n",
    "                             \"avg_by_pers\":avg_by_pers})\n",
    "\n",
    "age_demographic"
   ]
  },
  {
   "cell_type": "markdown",
   "id": "95fc5b39",
   "metadata": {
    "papermill": {
     "duration": 0.014048,
     "end_time": "2021-10-04T11:20:22.126930",
     "exception": false,
     "start_time": "2021-10-04T11:20:22.112882",
     "status": "completed"
    },
    "tags": []
   },
   "source": [
    "Top Spenders\n",
    "* Identify the the top 5 spenders in the game by total purchase value, then list (in a table):\n",
    "* SN\n",
    "* Purchase Count\n",
    "* Average Purchase Price\n",
    "* Total Purchase Value"
   ]
  },
  {
   "cell_type": "code",
   "execution_count": 11,
   "id": "3e4f5d68",
   "metadata": {
    "execution": {
     "iopub.execute_input": "2021-10-04T11:20:22.158759Z",
     "iopub.status.busy": "2021-10-04T11:20:22.158204Z",
     "iopub.status.idle": "2021-10-04T11:20:22.176055Z",
     "shell.execute_reply": "2021-10-04T11:20:22.175500Z",
     "shell.execute_reply.started": "2021-10-04T11:07:42.900270Z"
    },
    "papermill": {
     "duration": 0.034735,
     "end_time": "2021-10-04T11:20:22.176212",
     "exception": false,
     "start_time": "2021-10-04T11:20:22.141477",
     "status": "completed"
    },
    "tags": []
   },
   "outputs": [
    {
     "data": {
      "text/html": [
       "<div>\n",
       "<style scoped>\n",
       "    .dataframe tbody tr th:only-of-type {\n",
       "        vertical-align: middle;\n",
       "    }\n",
       "\n",
       "    .dataframe tbody tr th {\n",
       "        vertical-align: top;\n",
       "    }\n",
       "\n",
       "    .dataframe thead th {\n",
       "        text-align: right;\n",
       "    }\n",
       "</style>\n",
       "<table border=\"1\" class=\"dataframe\">\n",
       "  <thead>\n",
       "    <tr style=\"text-align: right;\">\n",
       "      <th></th>\n",
       "      <th>Purchase Count</th>\n",
       "      <th>Average Purchase Price</th>\n",
       "      <th>Total Purchase Value</th>\n",
       "    </tr>\n",
       "    <tr>\n",
       "      <th>SN</th>\n",
       "      <th></th>\n",
       "      <th></th>\n",
       "      <th></th>\n",
       "    </tr>\n",
       "  </thead>\n",
       "  <tbody>\n",
       "    <tr>\n",
       "      <th>Lisosia93</th>\n",
       "      <td>5</td>\n",
       "      <td>3.792000</td>\n",
       "      <td>18.96</td>\n",
       "    </tr>\n",
       "    <tr>\n",
       "      <th>Idastidru52</th>\n",
       "      <td>4</td>\n",
       "      <td>3.862500</td>\n",
       "      <td>15.45</td>\n",
       "    </tr>\n",
       "    <tr>\n",
       "      <th>Chamjask73</th>\n",
       "      <td>3</td>\n",
       "      <td>4.610000</td>\n",
       "      <td>13.83</td>\n",
       "    </tr>\n",
       "    <tr>\n",
       "      <th>Iral74</th>\n",
       "      <td>4</td>\n",
       "      <td>3.405000</td>\n",
       "      <td>13.62</td>\n",
       "    </tr>\n",
       "    <tr>\n",
       "      <th>Iskadarya95</th>\n",
       "      <td>3</td>\n",
       "      <td>4.366667</td>\n",
       "      <td>13.10</td>\n",
       "    </tr>\n",
       "  </tbody>\n",
       "</table>\n",
       "</div>"
      ],
      "text/plain": [
       "             Purchase Count  Average Purchase Price  Total Purchase Value\n",
       "SN                                                                       \n",
       "Lisosia93                 5                3.792000                 18.96\n",
       "Idastidru52               4                3.862500                 15.45\n",
       "Chamjask73                3                4.610000                 13.83\n",
       "Iral74                    4                3.405000                 13.62\n",
       "Iskadarya95               3                4.366667                 13.10"
      ]
     },
     "execution_count": 11,
     "metadata": {},
     "output_type": "execute_result"
    }
   ],
   "source": [
    "Spender_df= df.groupby([\"SN\"])\n",
    "purchase_count= Spender_df[\"Purchase ID\"].count()\n",
    "averagePurchasePrice = Spender_df[\"Price\"].mean()\n",
    "totalPurchaseValue = Spender_df[\"Price\"].sum()\n",
    "\n",
    "# Create a summary data frame to hold the results\n",
    "result_spenders_df = pd.DataFrame({\"Purchase Count\": purchase_count,\n",
    "                            \"Average Purchase Price\": averagePurchasePrice,\n",
    "                            \"Total Purchase Value\": totalPurchaseValue})\n",
    "result_spenders_df=result_spenders_df.sort_values([\"Total Purchase Value\"], ascending=False)\n",
    "# select 5er value\n",
    "result_spenders_df[[\"Purchase Count\", \"Average Purchase Price\", \"Total Purchase Value\"]].head()"
   ]
  },
  {
   "cell_type": "markdown",
   "id": "b5c3d872",
   "metadata": {
    "papermill": {
     "duration": 0.014533,
     "end_time": "2021-10-04T11:20:22.205645",
     "exception": false,
     "start_time": "2021-10-04T11:20:22.191112",
     "status": "completed"
    },
    "tags": []
   },
   "source": [
    "Most Popular Items\n",
    "* Identify the 5 most popular items by purchase count, then list (in a table):\n",
    "* Item ID\n",
    "* Item Name\n",
    "* Purchase Count\n",
    "* Item Price\n",
    "* Total Purchase Value"
   ]
  },
  {
   "cell_type": "code",
   "execution_count": 12,
   "id": "3c073526",
   "metadata": {
    "execution": {
     "iopub.execute_input": "2021-10-04T11:20:22.241310Z",
     "iopub.status.busy": "2021-10-04T11:20:22.240718Z",
     "iopub.status.idle": "2021-10-04T11:20:22.258923Z",
     "shell.execute_reply": "2021-10-04T11:20:22.258479Z",
     "shell.execute_reply.started": "2021-10-04T11:08:47.291857Z"
    },
    "papermill": {
     "duration": 0.038398,
     "end_time": "2021-10-04T11:20:22.259055",
     "exception": false,
     "start_time": "2021-10-04T11:20:22.220657",
     "status": "completed"
    },
    "tags": []
   },
   "outputs": [
    {
     "data": {
      "text/html": [
       "<div>\n",
       "<style scoped>\n",
       "    .dataframe tbody tr th:only-of-type {\n",
       "        vertical-align: middle;\n",
       "    }\n",
       "\n",
       "    .dataframe tbody tr th {\n",
       "        vertical-align: top;\n",
       "    }\n",
       "\n",
       "    .dataframe thead th {\n",
       "        text-align: right;\n",
       "    }\n",
       "</style>\n",
       "<table border=\"1\" class=\"dataframe\">\n",
       "  <thead>\n",
       "    <tr style=\"text-align: right;\">\n",
       "      <th></th>\n",
       "      <th></th>\n",
       "      <th>Purchase Count</th>\n",
       "      <th>Item Price</th>\n",
       "      <th>Total Purchase Value</th>\n",
       "    </tr>\n",
       "    <tr>\n",
       "      <th>Item ID</th>\n",
       "      <th>Item Name</th>\n",
       "      <th></th>\n",
       "      <th></th>\n",
       "      <th></th>\n",
       "    </tr>\n",
       "  </thead>\n",
       "  <tbody>\n",
       "    <tr>\n",
       "      <th>178</th>\n",
       "      <th>Oathbreaker, Last Hope of the Breaking Storm</th>\n",
       "      <td>12</td>\n",
       "      <td>4.23</td>\n",
       "      <td>50.76</td>\n",
       "    </tr>\n",
       "    <tr>\n",
       "      <th>145</th>\n",
       "      <th>Fiery Glass Crusader</th>\n",
       "      <td>9</td>\n",
       "      <td>4.58</td>\n",
       "      <td>41.22</td>\n",
       "    </tr>\n",
       "    <tr>\n",
       "      <th>108</th>\n",
       "      <th>Extraction, Quickblade Of Trembling Hands</th>\n",
       "      <td>9</td>\n",
       "      <td>3.53</td>\n",
       "      <td>31.77</td>\n",
       "    </tr>\n",
       "    <tr>\n",
       "      <th>82</th>\n",
       "      <th>Nirvana</th>\n",
       "      <td>9</td>\n",
       "      <td>4.90</td>\n",
       "      <td>44.10</td>\n",
       "    </tr>\n",
       "    <tr>\n",
       "      <th>19</th>\n",
       "      <th>Pursuit, Cudgel of Necromancy</th>\n",
       "      <td>8</td>\n",
       "      <td>1.02</td>\n",
       "      <td>8.16</td>\n",
       "    </tr>\n",
       "  </tbody>\n",
       "</table>\n",
       "</div>"
      ],
      "text/plain": [
       "                                                      Purchase Count  \\\n",
       "Item ID Item Name                                                      \n",
       "178     Oathbreaker, Last Hope of the Breaking Storm              12   \n",
       "145     Fiery Glass Crusader                                       9   \n",
       "108     Extraction, Quickblade Of Trembling Hands                  9   \n",
       "82      Nirvana                                                    9   \n",
       "19      Pursuit, Cudgel of Necromancy                              8   \n",
       "\n",
       "                                                      Item Price  \\\n",
       "Item ID Item Name                                                  \n",
       "178     Oathbreaker, Last Hope of the Breaking Storm        4.23   \n",
       "145     Fiery Glass Crusader                                4.58   \n",
       "108     Extraction, Quickblade Of Trembling Hands           3.53   \n",
       "82      Nirvana                                             4.90   \n",
       "19      Pursuit, Cudgel of Necromancy                       1.02   \n",
       "\n",
       "                                                      Total Purchase Value  \n",
       "Item ID Item Name                                                           \n",
       "178     Oathbreaker, Last Hope of the Breaking Storm                 50.76  \n",
       "145     Fiery Glass Crusader                                         41.22  \n",
       "108     Extraction, Quickblade Of Trembling Hands                    31.77  \n",
       "82      Nirvana                                                      44.10  \n",
       "19      Pursuit, Cudgel of Necromancy                                 8.16  "
      ]
     },
     "execution_count": 12,
     "metadata": {},
     "output_type": "execute_result"
    }
   ],
   "source": [
    "pop_items =df.groupby(['Item ID','Item Name'])\n",
    "pop_items[\"Price\"].count()\n",
    "pop_items[\"Price\"].mean()\n",
    "pop_items[\"Price\"].sum()\n",
    "Most_popular_items =pd.DataFrame({\"Purchase Count\":pop_items[\"Price\"].count(),\n",
    "                                \"Item Price\":pop_items[\"Price\"].mean(),\n",
    "                                 \"Total Purchase Value\":pop_items[\"Price\"].sum()})\n",
    "Most_popular_items.sort_values(\"Purchase Count\",ascending=False).head()"
   ]
  },
  {
   "cell_type": "markdown",
   "id": "f49bfbac",
   "metadata": {
    "papermill": {
     "duration": 0.015062,
     "end_time": "2021-10-04T11:20:22.289532",
     "exception": false,
     "start_time": "2021-10-04T11:20:22.274470",
     "status": "completed"
    },
    "tags": []
   },
   "source": [
    "Most Profitable Items\n",
    "* Identify the 5 most profitable items by total purchase value, then list (in a table):\n",
    "* Item ID\n",
    "* Item Name\n",
    "* Purchase Count\n",
    "* Item Price\n",
    "* Total Purchase Value"
   ]
  },
  {
   "cell_type": "code",
   "execution_count": 13,
   "id": "096f6e4e",
   "metadata": {
    "execution": {
     "iopub.execute_input": "2021-10-04T11:20:22.325620Z",
     "iopub.status.busy": "2021-10-04T11:20:22.325014Z",
     "iopub.status.idle": "2021-10-04T11:20:22.341031Z",
     "shell.execute_reply": "2021-10-04T11:20:22.341573Z",
     "shell.execute_reply.started": "2021-10-04T11:17:26.856303Z"
    },
    "papermill": {
     "duration": 0.036997,
     "end_time": "2021-10-04T11:20:22.341735",
     "exception": false,
     "start_time": "2021-10-04T11:20:22.304738",
     "status": "completed"
    },
    "tags": []
   },
   "outputs": [
    {
     "data": {
      "text/html": [
       "<div>\n",
       "<style scoped>\n",
       "    .dataframe tbody tr th:only-of-type {\n",
       "        vertical-align: middle;\n",
       "    }\n",
       "\n",
       "    .dataframe tbody tr th {\n",
       "        vertical-align: top;\n",
       "    }\n",
       "\n",
       "    .dataframe thead th {\n",
       "        text-align: right;\n",
       "    }\n",
       "</style>\n",
       "<table border=\"1\" class=\"dataframe\">\n",
       "  <thead>\n",
       "    <tr style=\"text-align: right;\">\n",
       "      <th></th>\n",
       "      <th></th>\n",
       "      <th></th>\n",
       "      <th>Purchase Count</th>\n",
       "      <th>Item Price</th>\n",
       "      <th>Total Purchase Value</th>\n",
       "    </tr>\n",
       "    <tr>\n",
       "      <th>Item ID</th>\n",
       "      <th>Item Name</th>\n",
       "      <th>Price</th>\n",
       "      <th></th>\n",
       "      <th></th>\n",
       "      <th></th>\n",
       "    </tr>\n",
       "  </thead>\n",
       "  <tbody>\n",
       "    <tr>\n",
       "      <th>178</th>\n",
       "      <th>Oathbreaker, Last Hope of the Breaking Storm</th>\n",
       "      <th>4.23</th>\n",
       "      <td>12</td>\n",
       "      <td>4.23</td>\n",
       "      <td>50.76</td>\n",
       "    </tr>\n",
       "    <tr>\n",
       "      <th>145</th>\n",
       "      <th>Fiery Glass Crusader</th>\n",
       "      <th>4.58</th>\n",
       "      <td>9</td>\n",
       "      <td>4.58</td>\n",
       "      <td>41.22</td>\n",
       "    </tr>\n",
       "    <tr>\n",
       "      <th>108</th>\n",
       "      <th>Extraction, Quickblade Of Trembling Hands</th>\n",
       "      <th>3.53</th>\n",
       "      <td>9</td>\n",
       "      <td>3.53</td>\n",
       "      <td>31.77</td>\n",
       "    </tr>\n",
       "    <tr>\n",
       "      <th>82</th>\n",
       "      <th>Nirvana</th>\n",
       "      <th>4.90</th>\n",
       "      <td>9</td>\n",
       "      <td>4.90</td>\n",
       "      <td>44.10</td>\n",
       "    </tr>\n",
       "    <tr>\n",
       "      <th>19</th>\n",
       "      <th>Pursuit, Cudgel of Necromancy</th>\n",
       "      <th>1.02</th>\n",
       "      <td>8</td>\n",
       "      <td>1.02</td>\n",
       "      <td>8.16</td>\n",
       "    </tr>\n",
       "  </tbody>\n",
       "</table>\n",
       "</div>"
      ],
      "text/plain": [
       "                                                            Purchase Count  \\\n",
       "Item ID Item Name                                    Price                   \n",
       "178     Oathbreaker, Last Hope of the Breaking Storm 4.23               12   \n",
       "145     Fiery Glass Crusader                         4.58                9   \n",
       "108     Extraction, Quickblade Of Trembling Hands    3.53                9   \n",
       "82      Nirvana                                      4.90                9   \n",
       "19      Pursuit, Cudgel of Necromancy                1.02                8   \n",
       "\n",
       "                                                            Item Price  \\\n",
       "Item ID Item Name                                    Price               \n",
       "178     Oathbreaker, Last Hope of the Breaking Storm 4.23         4.23   \n",
       "145     Fiery Glass Crusader                         4.58         4.58   \n",
       "108     Extraction, Quickblade Of Trembling Hands    3.53         3.53   \n",
       "82      Nirvana                                      4.90         4.90   \n",
       "19      Pursuit, Cudgel of Necromancy                1.02         1.02   \n",
       "\n",
       "                                                            Total Purchase Value  \n",
       "Item ID Item Name                                    Price                        \n",
       "178     Oathbreaker, Last Hope of the Breaking Storm 4.23                  50.76  \n",
       "145     Fiery Glass Crusader                         4.58                  41.22  \n",
       "108     Extraction, Quickblade Of Trembling Hands    3.53                  31.77  \n",
       "82      Nirvana                                      4.90                  44.10  \n",
       "19      Pursuit, Cudgel of Necromancy                1.02                   8.16  "
      ]
     },
     "execution_count": 13,
     "metadata": {},
     "output_type": "execute_result"
    }
   ],
   "source": [
    "most_profit =df.groupby(['Item ID','Item Name','Price'])\n",
    "most_profit_items =pd.DataFrame({\"Purchase Count\":most_profit[\"Price\"].count(),\n",
    "                                \"Item Price\":most_profit[\"Price\"].mean(),\n",
    "                                 \"Total Purchase Value\":most_profit[\"Price\"].sum()})\n",
    "most_profit_items.sort_values(\"Purchase Count\",ascending=False).head()"
   ]
  }
 ],
 "metadata": {
  "kernelspec": {
   "display_name": "Python 3",
   "language": "python",
   "name": "python3"
  },
  "language_info": {
   "codemirror_mode": {
    "name": "ipython",
    "version": 3
   },
   "file_extension": ".py",
   "mimetype": "text/x-python",
   "name": "python",
   "nbconvert_exporter": "python",
   "pygments_lexer": "ipython3",
   "version": "3.7.10"
  },
  "papermill": {
   "default_parameters": {},
   "duration": 8.270636,
   "end_time": "2021-10-04T11:20:22.964988",
   "environment_variables": {},
   "exception": null,
   "input_path": "__notebook__.ipynb",
   "output_path": "__notebook__.ipynb",
   "parameters": {},
   "start_time": "2021-10-04T11:20:14.694352",
   "version": "2.3.3"
  }
 },
 "nbformat": 4,
 "nbformat_minor": 5
}
